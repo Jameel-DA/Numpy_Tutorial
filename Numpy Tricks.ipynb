{
 "cells": [
  {
   "cell_type": "markdown",
   "metadata": {},
   "source": [
    "np.sort\n",
    "\n",
    "Return a Sort of function"
   ]
  },
  {
   "cell_type": "code",
   "execution_count": 9,
   "metadata": {},
   "outputs": [
    {
     "data": {
      "text/plain": [
       "array([ 1,  4,  7, 10, 16, 17, 19, 26, 28, 40, 48, 69, 71, 74, 83],\n",
       "      dtype=int32)"
      ]
     },
     "execution_count": 9,
     "metadata": {},
     "output_type": "execute_result"
    }
   ],
   "source": [
    "import numpy as np \n",
    "# 1d array\n",
    "a = np.random.randint(1,100,15)\n",
    "np.sort(a)"
   ]
  },
  {
   "cell_type": "code",
   "execution_count": 10,
   "metadata": {},
   "outputs": [
    {
     "data": {
      "text/plain": [
       "array([[15, 52, 63, 70],\n",
       "       [ 4, 25, 51, 95],\n",
       "       [ 1, 58, 68, 91],\n",
       "       [26, 27, 37, 89],\n",
       "       [22, 26, 56, 66],\n",
       "       [36, 43, 80, 96]], dtype=int32)"
      ]
     },
     "execution_count": 10,
     "metadata": {},
     "output_type": "execute_result"
    }
   ],
   "source": [
    "# 2d array\n",
    "b = np.random.randint(1,100,24).reshape(6,4)\n",
    "# axis = 0 column wise sorting\n",
    "# axis = 1 rows wise sorting \n",
    "np.sort(b,axis=0)\n",
    "\n",
    "np.sort(b)[::-1]"
   ]
  },
  {
   "cell_type": "markdown",
   "metadata": {},
   "source": [
    "np.append\n",
    "\n",
    "The numpy.append() appends values along the mentioned axis at the end of the array"
   ]
  },
  {
   "cell_type": "code",
   "execution_count": 11,
   "metadata": {},
   "outputs": [
    {
     "data": {
      "text/plain": [
       "array([[36., 96., 80., 43.,  1.],\n",
       "       [26., 56., 66., 22.,  1.],\n",
       "       [37., 89., 27., 26.,  1.],\n",
       "       [58., 68., 91.,  1.,  1.],\n",
       "       [51.,  4., 25., 95.,  1.],\n",
       "       [52., 15., 70., 63.,  1.]])"
      ]
     },
     "execution_count": 11,
     "metadata": {},
     "output_type": "execute_result"
    }
   ],
   "source": [
    "np.append(a,200)\n",
    "\n",
    "# add new column using append in 2d array\n",
    "\n",
    "np.append(b,np.ones((b.shape[0],1)),axis=1)"
   ]
  },
  {
   "cell_type": "markdown",
   "metadata": {},
   "source": [
    "np.concatenate\n",
    "\n",
    "numpy.concatenate() function concatenate a sequence of arrays along an existing axis"
   ]
  },
  {
   "cell_type": "code",
   "execution_count": 12,
   "metadata": {},
   "outputs": [
    {
     "name": "stdout",
     "output_type": "stream",
     "text": [
      "[[0 1 2]\n",
      " [3 4 5]]\n",
      "[[ 6  7  8]\n",
      " [ 9 10 11]]\n",
      "[[ 0  1  2]\n",
      " [ 3  4  5]\n",
      " [ 6  7  8]\n",
      " [ 9 10 11]]\n"
     ]
    },
    {
     "data": {
      "text/plain": [
       "array([[ 0,  1,  2,  6,  7,  8],\n",
       "       [ 3,  4,  5,  9, 10, 11]])"
      ]
     },
     "execution_count": 12,
     "metadata": {},
     "output_type": "execute_result"
    }
   ],
   "source": [
    "c = np.arange(6).reshape(2,3)\n",
    "d = np.arange(6,12).reshape(2,3)\n",
    "\n",
    "print(c)\n",
    "print(d)\n",
    "print(np.concatenate((c,d),axis=0))\n",
    "np.concatenate((c,d),axis=1)"
   ]
  },
  {
   "cell_type": "markdown",
   "metadata": {},
   "source": [
    "np.unique\n",
    "\n",
    "with the help of the unique() method, we can get the unique values from an array given as parameter in np.unique() method."
   ]
  },
  {
   "cell_type": "code",
   "execution_count": 13,
   "metadata": {},
   "outputs": [
    {
     "data": {
      "text/plain": [
       "array([1, 2, 3, 4, 5, 6])"
      ]
     },
     "execution_count": 13,
     "metadata": {},
     "output_type": "execute_result"
    }
   ],
   "source": [
    "e = np.array([1,1,2,2,3,3,4,4,5,5,6,6])\n",
    "np.unique(e)"
   ]
  },
  {
   "cell_type": "markdown",
   "metadata": {},
   "source": [
    "np.extend_dims\n",
    "\n",
    "with the help of Numpy.extend_dims() method, we can get the expended the dimensions of an array\n",
    "\n",
    "using this we can easily convert 1d array to 2d array"
   ]
  },
  {
   "cell_type": "code",
   "execution_count": 14,
   "metadata": {},
   "outputs": [
    {
     "data": {
      "text/plain": [
       "array([[28],\n",
       "       [26],\n",
       "       [17],\n",
       "       [19],\n",
       "       [ 7],\n",
       "       [ 1],\n",
       "       [16],\n",
       "       [40],\n",
       "       [74],\n",
       "       [69],\n",
       "       [71],\n",
       "       [83],\n",
       "       [10],\n",
       "       [48],\n",
       "       [ 4]], dtype=int32)"
      ]
     },
     "execution_count": 14,
     "metadata": {},
     "output_type": "execute_result"
    }
   ],
   "source": [
    "np.expand_dims(a,axis=0).shape\n",
    "np.expand_dims(a,axis=1)"
   ]
  },
  {
   "cell_type": "markdown",
   "metadata": {},
   "source": [
    "np.where\n",
    "\n",
    "The numpy.where() function returns the indices of element in an input array where the given condition is satisfied"
   ]
  },
  {
   "cell_type": "code",
   "execution_count": 15,
   "metadata": {},
   "outputs": [
    {
     "data": {
      "text/plain": [
       "array([ 0, 12,  0,  0, 10])"
      ]
     },
     "execution_count": 15,
     "metadata": {},
     "output_type": "execute_result"
    }
   ],
   "source": [
    "f = np.array([30,12,42,35,10])\n",
    "# find all values greater than 20\n",
    "np.where(f > 20)\n",
    "\n",
    "# replace all values greater than 20 with 0\n",
    "np.where(f>20,0,f)"
   ]
  },
  {
   "cell_type": "markdown",
   "metadata": {},
   "source": [
    "np.argmax()\n",
    "\n",
    "The numpy.argmax() function return indices of the max element of the array in a particular axis.\n",
    "iska use maximum number ka index find krne k liye kiya jata h"
   ]
  },
  {
   "cell_type": "code",
   "execution_count": 16,
   "metadata": {},
   "outputs": [
    {
     "name": "stdout",
     "output_type": "stream",
     "text": [
      "[[36 96 80 43]\n",
      " [26 56 66 22]\n",
      " [37 89 27 26]\n",
      " [58 68 91  1]\n",
      " [51  4 25 95]\n",
      " [52 15 70 63]]\n"
     ]
    },
    {
     "data": {
      "text/plain": [
       "array([1, 2, 1, 2, 3, 2])"
      ]
     },
     "execution_count": 16,
     "metadata": {},
     "output_type": "execute_result"
    }
   ],
   "source": [
    "print(b)\n",
    "np.argmax(b, axis=1)"
   ]
  },
  {
   "cell_type": "code",
   "execution_count": 17,
   "metadata": {},
   "outputs": [
    {
     "name": "stdout",
     "output_type": "stream",
     "text": [
      "[28 26 17 19  7  1 16 40 74 69 71 83 10 48  4]\n"
     ]
    },
    {
     "data": {
      "text/plain": [
       "np.int64(5)"
      ]
     },
     "execution_count": 17,
     "metadata": {},
     "output_type": "execute_result"
    }
   ],
   "source": [
    "# np.argmin\n",
    "print(a)\n",
    "np.argmin(a)"
   ]
  },
  {
   "cell_type": "markdown",
   "metadata": {},
   "source": [
    "np.cumsum\n",
    "\n",
    "numpy.cumsum() function is used when we want to compute the cumulative sum of array elements over a given axis"
   ]
  },
  {
   "cell_type": "code",
   "execution_count": 18,
   "metadata": {},
   "outputs": [
    {
     "name": "stdout",
     "output_type": "stream",
     "text": [
      "[ 1  3  6 10 15 21 28]\n",
      "[   1    2    6   24  120  720 5040]\n"
     ]
    }
   ],
   "source": [
    "import numpy as np\n",
    "g = np.arange(1,8)\n",
    "print(g.cumsum()) #1+2+3+4+5+6+7=28\n",
    "print(g.cumprod()) #1*2*3*4*5*6*7=5040"
   ]
  },
  {
   "cell_type": "markdown",
   "metadata": {},
   "source": [
    "np.percentile\n",
    "\n",
    "np.percentile() functionused to compute nth percentile of the given data(array element) along the specified axis."
   ]
  },
  {
   "cell_type": "code",
   "execution_count": 21,
   "metadata": {},
   "outputs": [
    {
     "name": "stdout",
     "output_type": "stream",
     "text": [
      "[28 26 17 19  7  1 16 40 74 69 71 83 10 48  4]\n"
     ]
    },
    {
     "data": {
      "text/plain": [
       "np.float64(26.0)"
      ]
     },
     "execution_count": 21,
     "metadata": {},
     "output_type": "execute_result"
    }
   ],
   "source": [
    "print(a)\n",
    "np.percentile(a,50)"
   ]
  },
  {
   "cell_type": "markdown",
   "metadata": {},
   "source": [
    "np.histogram\n",
    "\n",
    "Numpy has a buit-in numpy.histogram() function which represents the frequency of data distribution in the graphical form."
   ]
  },
  {
   "cell_type": "code",
   "execution_count": 23,
   "metadata": {},
   "outputs": [
    {
     "name": "stdout",
     "output_type": "stream",
     "text": [
      "[28 26 17 19  7  1 16 40 74 69 71 83 10 48  4]\n"
     ]
    },
    {
     "data": {
      "text/plain": [
       "(array([11,  4]), array([  0,  50, 100]))"
      ]
     },
     "execution_count": 23,
     "metadata": {},
     "output_type": "execute_result"
    }
   ],
   "source": [
    "print(a)\n",
    "np.histogram(a,bins=([0,50,100]))"
   ]
  },
  {
   "cell_type": "markdown",
   "metadata": {},
   "source": [
    "np.isin\n",
    "\n",
    "iska use ek array m multiple elements ko search krne k liye kiya jata h "
   ]
  },
  {
   "cell_type": "code",
   "execution_count": 24,
   "metadata": {},
   "outputs": [
    {
     "data": {
      "text/plain": [
       "array([28, 26, 17, 19,  7,  1, 16, 40, 74, 69, 71, 83, 10, 48,  4],\n",
       "      dtype=int32)"
      ]
     },
     "execution_count": 24,
     "metadata": {},
     "output_type": "execute_result"
    }
   ],
   "source": [
    "a"
   ]
  },
  {
   "cell_type": "code",
   "execution_count": 25,
   "metadata": {},
   "outputs": [
    {
     "data": {
      "text/plain": [
       "array([17,  1, 40, 10], dtype=int32)"
      ]
     },
     "execution_count": 25,
     "metadata": {},
     "output_type": "execute_result"
    }
   ],
   "source": [
    "ele = [17,20,25,40,10,1,55]\n",
    "a[np.isin(a,ele)]"
   ]
  },
  {
   "cell_type": "markdown",
   "metadata": {},
   "source": [
    "np.flip\n",
    "\n",
    "iska use array ko flip krne k liye kiyta jata h "
   ]
  },
  {
   "cell_type": "code",
   "execution_count": 26,
   "metadata": {},
   "outputs": [
    {
     "data": {
      "text/plain": [
       "array([ 9, 73,  2,  5,  1])"
      ]
     },
     "execution_count": 26,
     "metadata": {},
     "output_type": "execute_result"
    }
   ],
   "source": [
    "h = np.array([1,5,2,73,9])\n",
    "np.flip(h)"
   ]
  },
  {
   "cell_type": "markdown",
   "metadata": {},
   "source": [
    "np.put\n",
    "\n",
    "iska use array m available elements ko change krne k liye kiya jata h. ye original array m change krta h"
   ]
  },
  {
   "cell_type": "code",
   "execution_count": 30,
   "metadata": {},
   "outputs": [
    {
     "name": "stdout",
     "output_type": "stream",
     "text": [
      "[10 20  2 73  9]\n",
      "[10 20  2 73  9]\n"
     ]
    }
   ],
   "source": [
    "print(h)\n",
    "np.put(h,[0,1],[10,20])\n",
    "print(h)\n"
   ]
  },
  {
   "cell_type": "markdown",
   "metadata": {},
   "source": [
    "np.delete\n"
   ]
  },
  {
   "cell_type": "code",
   "execution_count": 34,
   "metadata": {},
   "outputs": [
    {
     "name": "stdout",
     "output_type": "stream",
     "text": [
      "[10  2]\n"
     ]
    },
    {
     "data": {
      "text/plain": [
       "array([10, 20,  2, 73,  9])"
      ]
     },
     "execution_count": 34,
     "metadata": {},
     "output_type": "execute_result"
    }
   ],
   "source": [
    "print(np.delete(h,[1,3,4]))\n",
    "h"
   ]
  },
  {
   "cell_type": "markdown",
   "metadata": {},
   "source": [
    "Set Function\n",
    "\n",
    "    1. np.union1d\n",
    "    2. np.intersect1d\n",
    "    3. np.setdiffd\n",
    "    4. np.setxor1d\n",
    "    5. np.in1d"
   ]
  },
  {
   "cell_type": "code",
   "execution_count": 40,
   "metadata": {},
   "outputs": [
    {
     "name": "stdout",
     "output_type": "stream",
     "text": [
      "[1 2 3 4 5 6 7 8]\n",
      "[3 4 5 6]\n",
      "[1 2]\n",
      "[1 2 7 8]\n",
      "[False False  True  True  True  True]\n"
     ]
    },
    {
     "name": "stderr",
     "output_type": "stream",
     "text": [
      "C:\\Users\\Jameel Ahmed\\AppData\\Local\\Temp\\ipykernel_21044\\3103693035.py:8: DeprecationWarning: `in1d` is deprecated. Use `np.isin` instead.\n",
      "  print(np.in1d(i,j))\n"
     ]
    }
   ],
   "source": [
    "i = np.array([1,2,3,4,5,6])\n",
    "j = np.array([3,4,5,6,7,8])\n",
    "\n",
    "print(np.union1d(i,j))\n",
    "print(np.intersect1d(i,j))\n",
    "print(np.setdiff1d(i,j))\n",
    "print(np.setxor1d(i,j))\n",
    "print(np.in1d(i,j))"
   ]
  }
 ],
 "metadata": {
  "kernelspec": {
   "display_name": "Python 3",
   "language": "python",
   "name": "python3"
  },
  "language_info": {
   "codemirror_mode": {
    "name": "ipython",
    "version": 3
   },
   "file_extension": ".py",
   "mimetype": "text/x-python",
   "name": "python",
   "nbconvert_exporter": "python",
   "pygments_lexer": "ipython3",
   "version": "3.13.0"
  }
 },
 "nbformat": 4,
 "nbformat_minor": 2
}
