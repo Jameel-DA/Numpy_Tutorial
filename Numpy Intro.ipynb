{
 "cells": [
  {
   "cell_type": "code",
   "execution_count": 1,
   "id": "f0c75179",
   "metadata": {},
   "outputs": [
    {
     "name": "stdout",
     "output_type": "stream",
     "text": [
      "[1 2 3 4 5]\n"
     ]
    }
   ],
   "source": [
    "# Creating an Array\n",
    "\n",
    "import numpy as np\n",
    "arr = np.array([1,2,3,4,5])\n",
    "print(arr)\n"
   ]
  },
  {
   "cell_type": "code",
   "execution_count": 2,
   "id": "48075479",
   "metadata": {},
   "outputs": [
    {
     "name": "stdout",
     "output_type": "stream",
     "text": [
      "[[ 1  2  3  4  5]\n",
      " [ 6  7  8  9 10]\n",
      " [11  2  3  4  5]]\n"
     ]
    }
   ],
   "source": [
    "# Create Multidimensional Array \n",
    "import numpy as np\n",
    "arr = np.array([[1,2,3,4,5],[6,7,8,9,10],[11,2,3,4,5]])\n",
    "print(arr)"
   ]
  },
  {
   "cell_type": "code",
   "execution_count": 3,
   "id": "d4194f55",
   "metadata": {},
   "outputs": [
    {
     "name": "stdout",
     "output_type": "stream",
     "text": [
      "['1' '2' '3' '4' '5' 'Jameel']\n",
      "[1. 2. 3. 4. 5.]\n",
      "<class 'numpy.ndarray'>\n"
     ]
    }
   ],
   "source": [
    "# to Change the Data Type of array\n",
    "import numpy as np\n",
    "arr = np.array([1,2,3,4,5,\"Jameel\"])\n",
    "arr1 = np.array([1,2,3,4,5],float)\n",
    "print(arr)\n",
    "print(arr1)\n",
    "print(type(arr1))"
   ]
  },
  {
   "cell_type": "code",
   "execution_count": 4,
   "id": "f88add5e",
   "metadata": {},
   "outputs": [
    {
     "name": "stdout",
     "output_type": "stream",
     "text": [
      "8 bytes\n"
     ]
    }
   ],
   "source": [
    "# Finding the size of Each Element in an Array\n",
    "import numpy as np\n",
    "arr = np.array([1,2,3,4,5])\n",
    "print(arr.itemsize,\"bytes\")\n"
   ]
  },
  {
   "cell_type": "code",
   "execution_count": 5,
   "id": "e836c559",
   "metadata": {},
   "outputs": [
    {
     "name": "stdout",
     "output_type": "stream",
     "text": [
      "int64\n"
     ]
    }
   ],
   "source": [
    "# Finding the data type of each Array item\n",
    "import numpy as np\n",
    "arr = np.array([1,2,3,4,5])\n",
    "print(arr.dtype)"
   ]
  },
  {
   "cell_type": "code",
   "execution_count": 6,
   "id": "bb39fa0f",
   "metadata": {},
   "outputs": [
    {
     "name": "stdout",
     "output_type": "stream",
     "text": [
      "(1, 5)\n"
     ]
    }
   ],
   "source": [
    "# Finding the shape and size of the array\n",
    "import numpy as ap\n",
    "arr = np.array([[8,3,2,56,3]])\n",
    "print(arr.shape)"
   ]
  },
  {
   "cell_type": "code",
   "execution_count": 7,
   "id": "56c37b55",
   "metadata": {},
   "outputs": [
    {
     "name": "stdout",
     "output_type": "stream",
     "text": [
      "Original Array :  [[1 2]\n",
      " [3 4]\n",
      " [5 6]]\n",
      "Reshaping Array :  [[1 2 3]\n",
      " [4 5 6]]\n"
     ]
    }
   ],
   "source": [
    "# Reshaping the array objects\n",
    "import numpy as np\n",
    "arr = np.array([[1,2],[3,4],[5,6]])\n",
    "print(\"Original Array : \", arr)\n",
    "print(\"Reshaping Array : \", arr.reshape(2,3))"
   ]
  },
  {
   "cell_type": "code",
   "execution_count": 8,
   "id": "eb248f0d",
   "metadata": {},
   "outputs": [
    {
     "name": "stdout",
     "output_type": "stream",
     "text": [
      "[5 6]\n",
      "12\n"
     ]
    }
   ],
   "source": [
    "# Slicing in the Array\n",
    "import numpy as np \n",
    "arr = np.array([[1,2,3,4],[5,6,7,8],[9,10,11,12]])\n",
    "print(arr[1,0:2])\n",
    "print(arr[2,3])"
   ]
  },
  {
   "cell_type": "code",
   "execution_count": 9,
   "id": "6bf91bf3",
   "metadata": {},
   "outputs": [
    {
     "name": "stdout",
     "output_type": "stream",
     "text": [
      "4\n",
      "1\n",
      "10\n"
     ]
    }
   ],
   "source": [
    "import numpy as np\n",
    "arr = np.array([[1,2,3,4]])\n",
    "print(arr.max())\n",
    "print(arr.min())\n",
    "print(arr.sum())"
   ]
  },
  {
   "cell_type": "code",
   "execution_count": 10,
   "id": "57904bf4",
   "metadata": {},
   "outputs": [
    {
     "name": "stdout",
     "output_type": "stream",
     "text": [
      "[[ 1  2  3]\n",
      " [ 4  5  6]\n",
      " [ 7  8  9]\n",
      " [10 11 12]]\n",
      "[[ 1  2  3  7  8  9]\n",
      " [ 4  5  6 10 11 12]]\n"
     ]
    }
   ],
   "source": [
    "import numpy as np\n",
    "a = np.array([[1,2,3],[4,5,6]]) \n",
    "b = np.array([[7,8,9],[10,11,12]])\n",
    "\n",
    "print(np.vstack((a,b)))\n",
    "print(np.hstack((a,b)))"
   ]
  },
  {
   "cell_type": "code",
   "execution_count": 11,
   "id": "20d421a4",
   "metadata": {},
   "outputs": [
    {
     "name": "stdout",
     "output_type": "stream",
     "text": [
      "[10 20  3  0]\n"
     ]
    }
   ],
   "source": [
    "# Another Syntax of creating an array\n",
    "\n",
    "import numpy as np \n",
    "a = [10,20,3,0,]\n",
    "arr = np.array(a)\n",
    "print(arr)"
   ]
  },
  {
   "cell_type": "code",
   "execution_count": 12,
   "id": "861257e6",
   "metadata": {},
   "outputs": [
    {
     "name": "stdout",
     "output_type": "stream",
     "text": [
      "2\n",
      "2\n"
     ]
    }
   ],
   "source": [
    "# Finding the  length of element\n",
    "\n",
    "import numpy as np\n",
    "arr = np.array([[1,2,3],[4,5,6]])\n",
    "print(len(arr)) #find the total array in array  \n",
    "print(len(arr)) #find the total element of an array "
   ]
  },
  {
   "cell_type": "code",
   "execution_count": 13,
   "id": "a5009470",
   "metadata": {},
   "outputs": [
    {
     "name": "stdout",
     "output_type": "stream",
     "text": [
      "[[50 50 80 80]]\n",
      "[[50 50 80 80]]\n",
      "[[-30 -10 -20   0]]\n",
      "[[-30 -10 -20   0]]\n",
      "[[ 400  600 1500 1600]]\n",
      "[[ 400  600 1500 1600]]\n",
      "[[0.25       0.66666667 0.6        1.        ]]\n",
      "[[0 0 0 1]]\n",
      "[[ 4  9 16 25]]\n",
      "[2.         3.         3.46410162 4.89897949]\n"
     ]
    }
   ],
   "source": [
    "# Mathematical Operation on array\n",
    "\n",
    "arr1 = np.array([[10,20,30,40]])\n",
    "arr2 = np.array([[40,30,50,40]])\n",
    "\n",
    "# addition\n",
    "print(arr1+arr2)\n",
    "print(np.add(arr1,arr2))\n",
    "\n",
    "# Substraction\n",
    "print(arr1-arr2)\n",
    "print(np.subtract(arr1,arr2))\n",
    "\n",
    "# Multiplication\n",
    "print(arr1*arr2)\n",
    "print(np.multiply(arr1,arr2))\n",
    "\n",
    "# Division\n",
    "print(arr1/arr2)\n",
    "arr3 = np.divide(arr1,arr2)\n",
    "print(np.astype(arr3,int))\n",
    "\n",
    "a = np.array([[2,3,4,5]])\n",
    "b = np.array([[2]])\n",
    "print(np.pow(a,b)) #Power\n",
    "print(np.sqrt([4,9,12,24])) #Square Root\n"
   ]
  },
  {
   "cell_type": "code",
   "execution_count": 14,
   "id": "d248d5a2",
   "metadata": {},
   "outputs": [
    {
     "name": "stdout",
     "output_type": "stream",
     "text": [
      "[[1 2 3]\n",
      " [4 5 6]\n",
      " [7 8 9]\n",
      " [4 5 8]]\n",
      "[[1 2 3 7 8 9]\n",
      " [4 5 6 4 5 8]]\n",
      "[[1 2 3]\n",
      " [4 5 6]\n",
      " [7 8 9]\n",
      " [4 5 8]]\n",
      "[array([1, 2]), array([3, 4]), array([5])]\n"
     ]
    }
   ],
   "source": [
    "# Combining and spliting array\n",
    "\n",
    "# Concatenate\n",
    "import numpy as np\n",
    "a = np.array([[1,2,3],[4,5,6]])\n",
    "b = np.array([[7,8,9],[4,5,8]])\n",
    "\n",
    "print(np.concatenate([a,b]))\n",
    "print(np.hstack([a,b]))\n",
    "print(np.vstack([a,b]))\n",
    "\n",
    "# Spliting\n",
    "c = np.array([1,2,3,4,5])\n",
    "d = np.array_split(c,3)\n",
    "print(d)\n"
   ]
  },
  {
   "cell_type": "code",
   "execution_count": 15,
   "id": "aee8bcbf",
   "metadata": {},
   "outputs": [
    {
     "name": "stdout",
     "output_type": "stream",
     "text": [
      "[  1   2   3   4   5  90 100 110]\n",
      "[  1   2 900   3   4   5]\n",
      "[1 2 4 5]\n",
      "[ 1  2  3  4  5 10 50 90]\n"
     ]
    }
   ],
   "source": [
    "# Adding and Removing Element in Array\n",
    "\n",
    "# append - add the element in the last position of an array\n",
    "\n",
    "arr = np.array([1,2,3,4,5])\n",
    "print(np.append(arr,[90,100,110]))\n",
    "\n",
    "# insert - insert an element on the specific location\n",
    "\n",
    "print(np.insert(arr,2,900))\n",
    "\n",
    "# Delete \n",
    "\n",
    "print(np.delete(arr,2))\n",
    "print(np.append(arr,[10,50,90]))\n"
   ]
  },
  {
   "cell_type": "code",
   "execution_count": 16,
   "id": "dd587b02",
   "metadata": {},
   "outputs": [
    {
     "name": "stdout",
     "output_type": "stream",
     "text": [
      "[[ 1  2]\n",
      " [ 5  6]\n",
      " [ 9 10]\n",
      " [11 12]\n",
      " [13 14]\n",
      " [15 16]]\n",
      "[[ 1  2 11 12]\n",
      " [ 5  6 13 14]\n",
      " [ 9 10 15 16]]\n"
     ]
    }
   ],
   "source": [
    "import numpy as np \n",
    "a = np.array([[1,2],[5,6],[9,10]])\n",
    "b = np.array([[11,12],[13,14],[15,16]]) \n",
    "\n",
    "print(np.vstack((a,b)))\n",
    "print(np.hstack((a,b)))"
   ]
  },
  {
   "cell_type": "code",
   "execution_count": 17,
   "id": "a7904a18",
   "metadata": {},
   "outputs": [
    {
     "name": "stdout",
     "output_type": "stream",
     "text": [
      "2\n",
      "8\n",
      "[[1. 2. 3. 5.]\n",
      " [6. 7. 8. 9.]]\n"
     ]
    }
   ],
   "source": [
    "import numpy as np\n",
    "arr = np.array([[1,2,3,5],[6,7,8,9]])\n",
    "print(len(arr))\n",
    "print(arr.size)\n",
    "print(arr.astype(float))"
   ]
  },
  {
   "cell_type": "code",
   "execution_count": 18,
   "id": "cda63ebc",
   "metadata": {},
   "outputs": [
    {
     "name": "stdout",
     "output_type": "stream",
     "text": [
      "2\n"
     ]
    }
   ],
   "source": [
    "# Search in array\n",
    "import numpy as np\n",
    "arr = np.array([1,2,3,4,5])\n",
    "print(np.searchsorted(arr,3))\n"
   ]
  },
  {
   "cell_type": "code",
   "execution_count": 19,
   "id": "d94ebec5",
   "metadata": {},
   "outputs": [
    {
     "name": "stdout",
     "output_type": "stream",
     "text": [
      "[ 1  2  3  4  7  9 27]\n"
     ]
    }
   ],
   "source": [
    "# Sort array\n",
    "import numpy as np \n",
    "arr = np.array([1,9,4,7,27,3,2])\n",
    "print(np.sort(arr))"
   ]
  },
  {
   "cell_type": "code",
   "execution_count": 20,
   "id": "93305efd",
   "metadata": {},
   "outputs": [
    {
     "data": {
      "text/plain": [
       "array([3, 3])"
      ]
     },
     "execution_count": 20,
     "metadata": {},
     "output_type": "execute_result"
    }
   ],
   "source": [
    "# Filter array\n",
    "import numpy as np \n",
    "arr = np.array([2,3,1,3,1,2])\n",
    "# fa = [True,False,True,False]\n",
    "fa = arr>2\n",
    "new = arr[fa]\n",
    "new"
   ]
  },
  {
   "cell_type": "code",
   "execution_count": 21,
   "id": "fb7f7a0e",
   "metadata": {},
   "outputs": [
    {
     "name": "stdout",
     "output_type": "stream",
     "text": [
      "30\n",
      "10\n",
      "2\n",
      "5\n",
      "1\n",
      "6.0\n",
      "7.0\n",
      "[10 14 16 23 30]\n",
      "[  10   40   80  560 3920]\n"
     ]
    }
   ],
   "source": [
    "# Aggregation Function in Numpy\n",
    "\n",
    "import numpy as np \n",
    "\n",
    "arr = np.array([[10,4,2,7,7]])\n",
    "print(arr.sum())\n",
    "print(arr.max())\n",
    "print(arr.min())\n",
    "print(np.size(arr))\n",
    "print(len(arr))\n",
    "print(np.mean(arr))\n",
    "print(np.median(arr))\n",
    "# print(np.mod(arr))\n",
    "print(np.cumsum(arr))\n",
    "print(np.cumprod(arr))"
   ]
  }
 ],
 "metadata": {
  "kernelspec": {
   "display_name": "Python 3",
   "language": "python",
   "name": "python3"
  },
  "language_info": {
   "codemirror_mode": {
    "name": "ipython",
    "version": 3
   },
   "file_extension": ".py",
   "mimetype": "text/x-python",
   "name": "python",
   "nbconvert_exporter": "python",
   "pygments_lexer": "ipython3",
   "version": "3.13.0"
  }
 },
 "nbformat": 4,
 "nbformat_minor": 5
}
