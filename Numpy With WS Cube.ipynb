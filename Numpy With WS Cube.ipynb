{
 "cells": [
  {
   "cell_type": "code",
   "execution_count": 3,
   "metadata": {},
   "outputs": [
    {
     "data": {
      "text/plain": [
       "array([5, 7, 9])"
      ]
     },
     "execution_count": 3,
     "metadata": {},
     "output_type": "execute_result"
    }
   ],
   "source": [
    "import numpy as np\n",
    "arr1 = np.array([1,2,3])\n",
    "arr2 = np.array([4,5,6])\n",
    "arr1+arr2"
   ]
  },
  {
   "cell_type": "code",
   "execution_count": 4,
   "metadata": {},
   "outputs": [
    {
     "data": {
      "text/plain": [
       "[5, 7, 9]"
      ]
     },
     "execution_count": 4,
     "metadata": {},
     "output_type": "execute_result"
    }
   ],
   "source": [
    "li1 = [1,2,3]\n",
    "li2 = [4,5,6]\n",
    "\n",
    "li3 = [i+j for i,j in zip(li1,li2)]\n",
    "li3\n",
    "\n",
    "# we cant add two list so we can use array"
   ]
  },
  {
   "cell_type": "code",
   "execution_count": 5,
   "metadata": {},
   "outputs": [
    {
     "name": "stdout",
     "output_type": "stream",
     "text": [
      "[11 12 13]\n",
      "[1 4 9]\n",
      "[1.         1.41421356 1.73205081]\n"
     ]
    }
   ],
   "source": [
    "arr = np.array([1,2,3]) + 10\n",
    "arr1 = np.array([1,2,3]) ** 2\n",
    "arr2 = np.array([1,2,3]) ** 0.5\n",
    "\n",
    "print(arr)\n",
    "print(arr1)\n",
    "print(arr2)"
   ]
  },
  {
   "cell_type": "code",
   "execution_count": 6,
   "metadata": {},
   "outputs": [
    {
     "data": {
      "text/plain": [
       "array([  5,  10,  15,  20,  25,  30,  35,  40,  45,  50,  55,  60,  65,\n",
       "        70,  75,  80,  85,  90,  95, 100])"
      ]
     },
     "execution_count": 6,
     "metadata": {},
     "output_type": "execute_result"
    }
   ],
   "source": [
    "# arange function is used for creating an array from range\n",
    "arr = np.arange(100)\n",
    "arr1 = np.arange(5,101,5)\n",
    "arr1"
   ]
  },
  {
   "cell_type": "code",
   "execution_count": 7,
   "metadata": {},
   "outputs": [
    {
     "name": "stdout",
     "output_type": "stream",
     "text": [
      "[[ 5  6 20]\n",
      " [ 8  9 30]]\n",
      "[[5 6]\n",
      " [8 9]]\n",
      "[[ 3 10]\n",
      " [ 6 20]]\n"
     ]
    }
   ],
   "source": [
    "# Matrix in Numpy\n",
    "# 2D Array\n",
    "arr = np.array([[1,2,3,10],[4,5,6,20],[7,8,9,30]])\n",
    "print(arr[1:,1:])\n",
    "print(arr[1:,1:3])\n",
    "print(arr[0:2,2:4])"
   ]
  },
  {
   "cell_type": "code",
   "execution_count": 8,
   "metadata": {},
   "outputs": [
    {
     "data": {
      "text/plain": [
       "array([[ 1,  2,  3,  4],\n",
       "       [ 5,  6,  7,  8],\n",
       "       [ 9, 10, 11, 12]])"
      ]
     },
     "execution_count": 8,
     "metadata": {},
     "output_type": "execute_result"
    }
   ],
   "source": [
    "# create multidimension array using reshape function\n",
    "arr = np.arange(1,13).reshape(3,4)\n",
    "arr\n"
   ]
  },
  {
   "cell_type": "code",
   "execution_count": 9,
   "metadata": {},
   "outputs": [
    {
     "data": {
      "text/plain": [
       "array([[1, 0, 0],\n",
       "       [0, 1, 0],\n",
       "       [0, 0, 1]])"
      ]
     },
     "execution_count": 9,
     "metadata": {},
     "output_type": "execute_result"
    }
   ],
   "source": [
    "# create digonal matrix\n",
    "arr = np.eye(3,dtype='int')\n",
    "arr"
   ]
  },
  {
   "cell_type": "code",
   "execution_count": 10,
   "metadata": {},
   "outputs": [
    {
     "name": "stdout",
     "output_type": "stream",
     "text": [
      "[[0 0 0]\n",
      " [0 0 0]\n",
      " [0 0 0]]\n"
     ]
    },
    {
     "data": {
      "text/plain": [
       "array([[1, 1, 1],\n",
       "       [1, 1, 1],\n",
       "       [1, 1, 1]])"
      ]
     },
     "execution_count": 10,
     "metadata": {},
     "output_type": "execute_result"
    }
   ],
   "source": [
    "# create ones and zeros array\n",
    "arr = np.ones((3,3),dtype='int')\n",
    "arr1 = np.zeros((3,3),dtype='int')\n",
    "print(arr1)\n",
    "arr"
   ]
  },
  {
   "cell_type": "code",
   "execution_count": 11,
   "metadata": {},
   "outputs": [
    {
     "name": "stdout",
     "output_type": "stream",
     "text": [
      "[[1 2]\n",
      " [3 4]\n",
      " [5 6]]\n",
      "[[ 5  6  7]\n",
      " [ 8  9 10]]\n"
     ]
    },
    {
     "data": {
      "text/plain": [
       "array([[21, 24, 27],\n",
       "       [47, 54, 61],\n",
       "       [73, 84, 95]])"
      ]
     },
     "execution_count": 11,
     "metadata": {},
     "output_type": "execute_result"
    }
   ],
   "source": [
    "arr1 = np.arange(1,7).reshape(3,2)\n",
    "arr2 = np.arange(5,11).reshape(2,3)\n",
    "\n",
    "print(arr1)\n",
    "print(arr2)\n",
    "\n",
    "arr1@arr2\n",
    "arr1.dot(arr2)"
   ]
  },
  {
   "cell_type": "code",
   "execution_count": 12,
   "metadata": {},
   "outputs": [
    {
     "name": "stdout",
     "output_type": "stream",
     "text": [
      "Matrix 1:\n",
      "[1, 2, 3]\n",
      "[4, 5, 6]\n",
      "[7, 8, 9]\n",
      "\n",
      "Matrix 2:\n",
      "[9, 8, 7]\n",
      "[6, 5, 4]\n",
      "[3, 2, 1]\n",
      "\n",
      "Resultant Matrix after Multiplication:\n",
      "[30, 24, 18]\n",
      "[84, 69, 54]\n",
      "[138, 114, 90]\n"
     ]
    }
   ],
   "source": [
    "# Define two matrices\n",
    "matrix1 = [[1, 2, 3], \n",
    "           [4, 5, 6], \n",
    "           [7, 8, 9]]\n",
    "\n",
    "matrix2 = [[9, 8, 7], \n",
    "           [6, 5, 4], \n",
    "           [3, 2, 1]]\n",
    "\n",
    "# Initialize the result matrix with zeros\n",
    "result = [[0 for _ in range(len(matrix2[0]))] for _ in range(len(matrix1))]\n",
    "\n",
    "# Perform matrix multiplication\n",
    "for i in range(len(matrix1)):  # Iterate over rows of matrix1\n",
    "    for j in range(len(matrix2[0])):  # Iterate over columns of matrix2\n",
    "        for k in range(len(matrix2)):  # Iterate over rows of matrix2\n",
    "            result[i][j] += matrix1[i][k] * matrix2[k][j]\n",
    "\n",
    "# Display the matrices and the result\n",
    "print(\"Matrix 1:\")\n",
    "for row in matrix1:\n",
    "    print(row)\n",
    "\n",
    "print(\"\\nMatrix 2:\")\n",
    "for row in matrix2:\n",
    "    print(row)\n",
    "\n",
    "print(\"\\nResultant Matrix after Multiplication:\")\n",
    "for row in result:\n",
    "    print(row)\n"
   ]
  },
  {
   "cell_type": "code",
   "execution_count": 13,
   "metadata": {},
   "outputs": [
    {
     "name": "stdout",
     "output_type": "stream",
     "text": [
      "<class 'tuple'>\n",
      "{1, 2, 3, 4}\n"
     ]
    }
   ],
   "source": [
    "t = 1,\n",
    "print(type(t))\n",
    "\n",
    "s = {1, 2, 3}\n",
    "s.add(4)\n",
    "print(s)"
   ]
  },
  {
   "cell_type": "code",
   "execution_count": 53,
   "metadata": {},
   "outputs": [
    {
     "name": "stdout",
     "output_type": "stream",
     "text": [
      "a =000007000005\n",
      "\n",
      "\n",
      "a =07"
     ]
    }
   ],
   "source": [
    "a = 7;b=5\n",
    "print(\"a =\",a,b,sep='00000',end='\\n\\n\\n')\n",
    "print(\"a =\",a,sep='0', end='')\n"
   ]
  },
  {
   "cell_type": "code",
   "execution_count": 15,
   "metadata": {},
   "outputs": [
    {
     "name": "stdout",
     "output_type": "stream",
     "text": [
      "[[1 2 3]\n",
      " [4 5 6]]\n"
     ]
    },
    {
     "data": {
      "text/plain": [
       "array([[1, 2, 3],\n",
       "       [4, 5, 6]])"
      ]
     },
     "execution_count": 15,
     "metadata": {},
     "output_type": "execute_result"
    }
   ],
   "source": [
    "# creating an ndarray \n",
    "import numpy as np\n",
    "arr1 = np.array([[1,2,3],[4,5,6]])\n",
    "print(arr1)\n",
    "arr1"
   ]
  },
  {
   "cell_type": "code",
   "execution_count": 16,
   "metadata": {},
   "outputs": [
    {
     "data": {
      "text/plain": [
       "array([1.+0.j, 2.+0.j, 3.+0.j, 4.+0.j])"
      ]
     },
     "execution_count": 16,
     "metadata": {},
     "output_type": "execute_result"
    }
   ],
   "source": [
    "# change the datatype of array\n",
    "arr = np.array([1,2,3,4,'w'])\n",
    "arr\n",
    "\n",
    "arr1 = np.array([1,2,3,4],complex)\n",
    "arr1"
   ]
  },
  {
   "cell_type": "code",
   "execution_count": 17,
   "metadata": {},
   "outputs": [
    {
     "name": "stdout",
     "output_type": "stream",
     "text": [
      "2\n"
     ]
    }
   ],
   "source": [
    "# Finding the dimension of an array\n",
    "arr = np.array([[1,2,3,4],[5,6,7,8]])\n",
    "print(arr.ndim)"
   ]
  },
  {
   "cell_type": "code",
   "execution_count": 18,
   "metadata": {},
   "outputs": [
    {
     "name": "stdout",
     "output_type": "stream",
     "text": [
      "Each item contains 8 bytes\n"
     ]
    }
   ],
   "source": [
    "# Finding the size of each array element\n",
    "arr = np.array([[1,2,3,4]])\n",
    "print(\"Each item contains\",arr.itemsize,\"bytes\")"
   ]
  },
  {
   "cell_type": "code",
   "execution_count": 19,
   "metadata": {},
   "outputs": [
    {
     "data": {
      "text/plain": [
       "dtype('<U21')"
      ]
     },
     "execution_count": 19,
     "metadata": {},
     "output_type": "execute_result"
    }
   ],
   "source": [
    "# Finding the datatype of each array item\n",
    "arr = np.array([[1,2,3,4,'j']])\n",
    "arr.dtype"
   ]
  },
  {
   "cell_type": "code",
   "execution_count": 20,
   "metadata": {},
   "outputs": [
    {
     "name": "stdout",
     "output_type": "stream",
     "text": [
      "Shape (2, 3)\n",
      "The Total Element in array :  6\n"
     ]
    }
   ],
   "source": [
    "# Finding the shape and size of the array\n",
    "arr = np.array([[1,2,4],[6,7,9]])\n",
    "print(\"Shape\",arr.shape)\n",
    "print(\"The Total Element in array : \",arr.size)"
   ]
  },
  {
   "cell_type": "code",
   "execution_count": 21,
   "metadata": {},
   "outputs": [
    {
     "data": {
      "text/plain": [
       "array([[1, 2],\n",
       "       [3, 4],\n",
       "       [5, 6]])"
      ]
     },
     "execution_count": 21,
     "metadata": {},
     "output_type": "execute_result"
    }
   ],
   "source": [
    "# Reshaping the array\n",
    "arr = np.array([[1,2,3],[4,5,6]])\n",
    "arr.reshape(3,2)"
   ]
  },
  {
   "cell_type": "code",
   "execution_count": 22,
   "metadata": {},
   "outputs": [
    {
     "data": {
      "text/plain": [
       "np.int64(3)"
      ]
     },
     "execution_count": 22,
     "metadata": {},
     "output_type": "execute_result"
    }
   ],
   "source": [
    "# Slicing in the array\n",
    "arr = np.array([[1,2,3,4],[5,6,7,8]])\n",
    "arr[0,2]"
   ]
  },
  {
   "cell_type": "code",
   "execution_count": 23,
   "metadata": {},
   "outputs": [
    {
     "name": "stdout",
     "output_type": "stream",
     "text": [
      "6\n",
      "1\n",
      "3\n"
     ]
    }
   ],
   "source": [
    "# Finding the Minimum,Maximum and sum of an array\n",
    "arr = np.array([[1,2,3]])\n",
    "print(arr.sum())\n",
    "print(arr.min())\n",
    "print(arr.max())"
   ]
  },
  {
   "cell_type": "code",
   "execution_count": 24,
   "metadata": {},
   "outputs": [
    {
     "name": "stdout",
     "output_type": "stream",
     "text": [
      "[4 2 3]\n",
      "[1 0]\n"
     ]
    }
   ],
   "source": [
    "# Numpy array Axis\n",
    "arr = np.array([[1,2,3],[4,0,1]])\n",
    "print(arr.max(axis=0)) #axis 0 means all column wise\n",
    "print(arr.min(axis=1)) #axis 1 means all row wise"
   ]
  },
  {
   "cell_type": "code",
   "execution_count": 25,
   "metadata": {},
   "outputs": [
    {
     "name": "stdout",
     "output_type": "stream",
     "text": [
      "[[1.         1.41421356 1.73205081]]\n"
     ]
    },
    {
     "data": {
      "text/plain": [
       "np.float64(0.816496580927726)"
      ]
     },
     "execution_count": 25,
     "metadata": {},
     "output_type": "execute_result"
    }
   ],
   "source": [
    "# Finding square root and standard deviation\n",
    "arr = np.array([[1,2,3]]) \n",
    "print(np.sqrt(arr))\n",
    "np.std(arr)\n"
   ]
  },
  {
   "cell_type": "code",
   "execution_count": 26,
   "metadata": {},
   "outputs": [
    {
     "name": "stdout",
     "output_type": "stream",
     "text": [
      "Addition :  [[ 3  7 11]]\n",
      "Substraction :  [[1 1 1]]\n",
      "Multiplication :  [[ 2 12 30]]\n",
      "Division :  [[2.         1.33333333 1.2       ]]\n"
     ]
    }
   ],
   "source": [
    "# Arithmetic operations on the array\n",
    "arr1 = np.array([[2,4,6]])\n",
    "arr2 = np.array([[1,3,5]])\n",
    "print(\"Addition : \",arr1+arr2)\n",
    "print(\"Substraction : \",arr1-arr2)\n",
    "print(\"Multiplication : \",arr1*arr2)\n",
    "print(\"Division : \",arr1/arr2)"
   ]
  },
  {
   "cell_type": "code",
   "execution_count": 27,
   "metadata": {},
   "outputs": [
    {
     "name": "stdout",
     "output_type": "stream",
     "text": [
      "Horizontal Concatination [[2 4 1 3]\n",
      " [6 8 5 7]]\n",
      "Vertical Concatination [[2 4]\n",
      " [6 8]\n",
      " [1 3]\n",
      " [5 7]]\n"
     ]
    }
   ],
   "source": [
    "# Array Concatenation\n",
    "arr1 = np.array([[2,4],[6,8]])\n",
    "arr2 = np.array([[1,3],[5,7]])\n",
    "print(\"Horizontal Concatination\",np.hstack((arr1,arr2)))\n",
    "print(\"Vertical Concatination\",np.vstack((arr1,arr2)))"
   ]
  },
  {
   "cell_type": "code",
   "execution_count": 28,
   "metadata": {},
   "outputs": [
    {
     "data": {
      "text/plain": [
       "array([[ 5,  6],\n",
       "       [ 7,  8],\n",
       "       [ 9, 10]])"
      ]
     },
     "execution_count": 28,
     "metadata": {},
     "output_type": "execute_result"
    }
   ],
   "source": [
    "# NUMPY ARRAY CREATION\n",
    "# Numpy empty\n",
    "arr = np.empty((3,2),dtype=int)\n",
    "arr\n"
   ]
  },
  {
   "cell_type": "code",
   "execution_count": 29,
   "metadata": {},
   "outputs": [
    {
     "data": {
      "text/plain": [
       "array([[0, 0, 0],\n",
       "       [0, 0, 0]])"
      ]
     },
     "execution_count": 29,
     "metadata": {},
     "output_type": "execute_result"
    }
   ],
   "source": [
    "# NumPy.Zeros\n",
    "arr = np.zeros((2,3),int)\n",
    "arr"
   ]
  },
  {
   "cell_type": "code",
   "execution_count": 30,
   "metadata": {},
   "outputs": [
    {
     "data": {
      "text/plain": [
       "array([[1, 1],\n",
       "       [1, 1],\n",
       "       [1, 1]])"
      ]
     },
     "execution_count": 30,
     "metadata": {},
     "output_type": "execute_result"
    }
   ],
   "source": [
    "# NumPy.ones\n",
    "arr = np.ones((3,2),int)\n",
    "arr"
   ]
  },
  {
   "cell_type": "code",
   "execution_count": 31,
   "metadata": {},
   "outputs": [
    {
     "name": "stdout",
     "output_type": "stream",
     "text": [
      "<class 'numpy.ndarray'>\n",
      "[1 2 3 4 5]\n",
      "<class 'numpy.ndarray'>\n",
      "[1 2 3 4]\n",
      "<class 'numpy.ndarray'>\n",
      "[[1 2 3]\n",
      " [4 5 6]]\n"
     ]
    }
   ],
   "source": [
    "# creating numpy array using the list\n",
    "l = [1,2,3,4,5]\n",
    "arr = np.asarray(l)\n",
    "print(type(arr))\n",
    "print(arr)\n",
    "\n",
    "# creating a numpy array using Tuple\n",
    "t = (1,2,3,4)\n",
    "arr1 = np.asarray(t)\n",
    "print(type(arr1))\n",
    "print(arr1) \n",
    "\n",
    "# creating a numpy array using more than one list\n",
    "l = [[1,2,3],[4,5,6]]\n",
    "arr2 = np.asarray(l)\n",
    "print(type(arr2))\n",
    "print(arr2)\n"
   ]
  },
  {
   "cell_type": "code",
   "execution_count": 32,
   "metadata": {},
   "outputs": [
    {
     "data": {
      "text/plain": [
       "array([[1, 2, 3],\n",
       "       [4, 5, 6],\n",
       "       [7, 8, 9]])"
      ]
     },
     "execution_count": 32,
     "metadata": {},
     "output_type": "execute_result"
    }
   ],
   "source": [
    "# Numpy.arrange\n",
    "arr = np.arange(1,10,1,int).reshape(3,3)\n",
    "arr"
   ]
  },
  {
   "cell_type": "code",
   "execution_count": 33,
   "metadata": {},
   "outputs": [
    {
     "name": "stdout",
     "output_type": "stream",
     "text": [
      "[1 2 3 4 5]\n",
      "[   1    2 8989    3    4]\n"
     ]
    },
    {
     "data": {
      "text/plain": [
       "array([1, 3, 4])"
      ]
     },
     "execution_count": 33,
     "metadata": {},
     "output_type": "execute_result"
    }
   ],
   "source": [
    "# Adding and Removing elements in the array\n",
    "\n",
    "import numpy as np\n",
    "arr = np.array([1,2,3,4])\n",
    "print(np.append(arr,5))\n",
    "\n",
    "print(np.insert(arr,2,8989))\n",
    "\n",
    "np.delete(arr,1)"
   ]
  },
  {
   "cell_type": "code",
   "execution_count": 47,
   "metadata": {},
   "outputs": [
    {
     "name": "stdout",
     "output_type": "stream",
     "text": [
      "(array([0]), array([5]))\n"
     ]
    }
   ],
   "source": [
    "# Sorting Searching and filtering an array\n",
    "# sort array\n",
    "arr = np.array([[1,9,3,6,1,5]])\n",
    "# print(np.sort(arr))\n",
    "\n",
    "# search array\n",
    "print(np.where(arr==5))"
   ]
  },
  {
   "cell_type": "code",
   "execution_count": 35,
   "metadata": {},
   "outputs": [
    {
     "name": "stdout",
     "output_type": "stream",
     "text": [
      "\n",
      "printing array a..\n",
      "[[ 1  2  3  4]\n",
      " [ 2  4  5  6]\n",
      " [10 20 39  3]]\n",
      "\n",
      "printing array b..\n",
      "[2 4 6 8]\n",
      "\n",
      "Adding arrays a and b ..\n",
      "[[ 3  6  9 12]\n",
      " [ 4  8 11 14]\n",
      " [12 24 45 11]]\n"
     ]
    }
   ],
   "source": [
    "# Numpy Broadcasting\n",
    "import numpy as np\n",
    "a = np.array([[1,2,3,4],[2,4,5,6],[10,20,39,3]])\n",
    "b = np.array([2,4,6,8])\n",
    "print(\"\\nprinting array a..\")\n",
    "print(a)\n",
    "print(\"\\nprinting array b..\")\n",
    "print(b)\n",
    "print(\"\\nAdding arrays a and b ..\")\n",
    "c = a + b;\n",
    "print(c)"
   ]
  },
  {
   "cell_type": "code",
   "execution_count": 36,
   "metadata": {},
   "outputs": [
    {
     "name": "stdout",
     "output_type": "stream",
     "text": [
      "1 2 3 4 5 6 7 8 "
     ]
    },
    {
     "data": {
      "text/plain": [
       "array([[1, 5],\n",
       "       [2, 6],\n",
       "       [3, 7],\n",
       "       [4, 8]])"
      ]
     },
     "execution_count": 36,
     "metadata": {},
     "output_type": "execute_result"
    }
   ],
   "source": [
    "# # Numpy Array Iteration\n",
    "arr = np.array([[1,2,3,4],[5,6,7,8]])\n",
    "for i in np.nditer(arr):\n",
    "    print(i,end=\" \")\n",
    "\n",
    "# Transpose of a Matrix\n",
    "arr.T    "
   ]
  },
  {
   "cell_type": "code",
   "execution_count": 37,
   "metadata": {},
   "outputs": [
    {
     "name": "stdout",
     "output_type": "stream",
     "text": [
      "3 6 9 12 15 18 21 24 "
     ]
    }
   ],
   "source": [
    "# Array Values Modification\n",
    "# arr = np.array([[1,2,3,4]]) * 3\n",
    "arr\n",
    "\n",
    "for i in np.nditer(arr):\n",
    "    print(i*3,end=\" \")"
   ]
  },
  {
   "cell_type": "code",
   "execution_count": 38,
   "metadata": {},
   "outputs": [
    {
     "name": "stdout",
     "output_type": "stream",
     "text": [
      "0b1010\n",
      "0b1100\n",
      "8\n",
      "14\n",
      "-11\n",
      "-13\n"
     ]
    }
   ],
   "source": [
    "# Numpy Bitwise Operators\n",
    "a = 10 \n",
    "b = 12\n",
    "print(bin(a))\n",
    "print(bin(b))\n",
    "print(np.bitwise_and(a,b))\n",
    "print(np.bitwise_or(a,b))\n",
    "print(np.bitwise_not(a))\n",
    "print(np.bitwise_not(b))"
   ]
  },
  {
   "cell_type": "code",
   "execution_count": 39,
   "metadata": {},
   "outputs": [
    {
     "name": "stdout",
     "output_type": "stream",
     "text": [
      "printing the original array values: [ 12.202   90.2312 123.02    23.202 ]\n",
      "Array values rounded off to 2 decimal position [ 12.2   90.23 123.02  23.2 ]\n",
      "Array values rounded off to -1 decimal position [ 10.  90. 120.  20.]\n"
     ]
    }
   ],
   "source": [
    "# Rounding Functions\n",
    "arr = np.array([12.202, 90.23120, 123.020, 23.202])\n",
    "print(\"printing the original array values:\",end = \" \")\n",
    "print(arr)\n",
    "print(\"Array values rounded off to 2 decimal position\",np.around(arr, 2))\n",
    "print(\"Array values rounded off to -1 decimal position\",np.around(arr, -1))"
   ]
  },
  {
   "cell_type": "code",
   "execution_count": 40,
   "metadata": {},
   "outputs": [
    {
     "name": "stdout",
     "output_type": "stream",
     "text": [
      "[ 12.  90. 123.  23.]\n"
     ]
    }
   ],
   "source": [
    "# The numpy.floor() function\n",
    "import numpy as np\n",
    "arr = np.array([12.202, 90.23120, 123.020, 23.202])\n",
    "print(np.floor(arr))"
   ]
  },
  {
   "cell_type": "code",
   "execution_count": 41,
   "metadata": {},
   "outputs": [
    {
     "name": "stdout",
     "output_type": "stream",
     "text": [
      "[ 13.  91. 124.  24.]\n"
     ]
    }
   ],
   "source": [
    "# The numpy.ceil() function\n",
    "import numpy as np\n",
    "arr = np.array([12.202, 90.23120, 123.020, 23.202])\n",
    "print(np.ceil(arr))"
   ]
  },
  {
   "cell_type": "code",
   "execution_count": 42,
   "metadata": {},
   "outputs": [
    {
     "name": "stdout",
     "output_type": "stream",
     "text": [
      "printing original array [ 12  90 380  12 211]\n",
      "printing location of the non-zero elements\n",
      "(array([0, 1, 2, 3, 4]),)\n"
     ]
    }
   ],
   "source": [
    "# numpy.nonzero() function\n",
    "import numpy as np\n",
    "b = np.array([12, 90, 380, 12, 211])\n",
    "print(\"printing original array\",b)\n",
    "print(\"printing location of the non-zero elements\")\n",
    "print(b.nonzero())"
   ]
  },
  {
   "cell_type": "code",
   "execution_count": 43,
   "metadata": {},
   "outputs": [
    {
     "name": "stdout",
     "output_type": "stream",
     "text": [
      "(array([1, 2, 4]),)\n",
      "(array([0, 1, 1]), array([1, 0, 1]))\n"
     ]
    }
   ],
   "source": [
    "# numpy.where() function\n",
    "import numpy as np\n",
    "b = np.array([12, 90, 380, 12, 211])\n",
    "print(np.where(b>12))\n",
    "c = np.array([[20, 24],[21, 23]])\n",
    "print(np.where(c>20))"
   ]
  },
  {
   "cell_type": "code",
   "execution_count": 44,
   "metadata": {},
   "outputs": [
    {
     "name": "stdout",
     "output_type": "stream",
     "text": [
      "Copies\n",
      "Original Array:\n",
      " [[ 1  2  3  4]\n",
      " [ 9  0  2  3]\n",
      " [ 1  2  3 19]]\n",
      "\n",
      "ID of array a: 2294912769872\n",
      "\n",
      "making copy of the array a\n",
      "\n",
      "ID of b: 2294912769872\n",
      "\n",
      "Changes on b also reflect to a:\n",
      "[[ 1  2  3]\n",
      " [ 4  9  0]\n",
      " [ 2  3  1]\n",
      " [ 2  3 19]]\n",
      "\n",
      "View Method\n",
      "Original Array:\n",
      " [[ 1  2  3  4]\n",
      " [ 9  0  2  3]\n",
      " [ 1  2  3 19]]\n",
      "\n",
      "ID of array a: 2294912768336\n",
      "\n",
      "ID of b: 2294912767760\n",
      "\n",
      "printing the view b\n",
      "[[ 1  2  3  4]\n",
      " [ 9  0  2  3]\n",
      " [ 1  2  3 19]]\n",
      "\n",
      "Changes made to the view b do not reflect a\n",
      "\n",
      "Original array \n",
      " [[ 1  2  3  4]\n",
      " [ 9  0  2  3]\n",
      " [ 1  2  3 19]]\n",
      "\n",
      "view\n",
      " [[ 1  2  3]\n",
      " [ 4  9  0]\n",
      " [ 2  3  1]\n",
      " [ 2  3 19]]\n"
     ]
    }
   ],
   "source": [
    "# Numpy Copies And Views\n",
    "print(\"Copies\")\n",
    "import numpy as np\n",
    "a = np.array([[1,2,3,4],[9,0,2,3],[1,2,3,19]])\n",
    "print(\"Original Array:\\n\",a)\n",
    "print(\"\\nID of array a:\",id(a))\n",
    "b = a\n",
    "print(\"\\nmaking copy of the array a\")\n",
    "print(\"\\nID of b:\",id(b))\n",
    "b.shape = 4,3;\n",
    "print(\"\\nChanges on b also reflect to a:\")\n",
    "print(a)\n",
    "\n",
    "print(\"\\nView Method\")\n",
    "import numpy as np\n",
    "a = np.array([[1,2,3,4],[9,0,2,3],[1,2,3,19]])\n",
    "print(\"Original Array:\\n\",a)\n",
    "print(\"\\nID of array a:\",id(a))\n",
    "b = a.view()\n",
    "print(\"\\nID of b:\",id(b))\n",
    "print(\"\\nprinting the view b\")\n",
    "print(b)\n",
    "b.shape = 4,3;\n",
    "print(\"\\nChanges made to the view b do not reflect a\")\n",
    "print(\"\\nOriginal array \\n\",a)\n",
    "print(\"\\nview\\n\",b)"
   ]
  },
  {
   "cell_type": "code",
   "execution_count": 45,
   "metadata": {},
   "outputs": [
    {
     "name": "stdout",
     "output_type": "stream",
     "text": [
      "[[12  5]\n",
      " [19  9]]\n"
     ]
    }
   ],
   "source": [
    "# Numpy Matrix\n",
    "a = np.array([[1,2],[2,3]])\n",
    "b = np.array([[2,3],[5,1]])\n",
    "print(np.dot(a,b))"
   ]
  }
 ],
 "metadata": {
  "kernelspec": {
   "display_name": "Python 3",
   "language": "python",
   "name": "python3"
  },
  "language_info": {
   "codemirror_mode": {
    "name": "ipython",
    "version": 3
   },
   "file_extension": ".py",
   "mimetype": "text/x-python",
   "name": "python",
   "nbconvert_exporter": "python",
   "pygments_lexer": "ipython3",
   "version": "3.13.0"
  }
 },
 "nbformat": 4,
 "nbformat_minor": 2
}
